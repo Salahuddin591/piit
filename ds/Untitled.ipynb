{
 "cells": [
  {
   "cell_type": "markdown",
   "id": "d2fa9930-6121-4189-89ec-e182f41577c2",
   "metadata": {},
   "source": [
    "List"
   ]
  },
  {
   "cell_type": "code",
   "execution_count": 2,
   "id": "1db6ebbf-e372-4771-bef2-e09d711eea31",
   "metadata": {},
   "outputs": [
    {
     "name": "stdout",
     "output_type": "stream",
     "text": [
      "[1, 33, 44, 22, 'sasa', 1]\n"
     ]
    }
   ],
   "source": [
    "x= [1,33,44,22,\"sasa\",1]\n",
    "print(x)"
   ]
  },
  {
   "cell_type": "code",
   "execution_count": 3,
   "id": "cdb63f25-264d-4d72-8ffb-284fb2c2073b",
   "metadata": {},
   "outputs": [
    {
     "data": {
      "text/plain": [
       "list"
      ]
     },
     "execution_count": 3,
     "metadata": {},
     "output_type": "execute_result"
    }
   ],
   "source": [
    "type(x)"
   ]
  },
  {
   "cell_type": "code",
   "execution_count": 4,
   "id": "251b8fab-806f-4ede-a20c-46490e197ab2",
   "metadata": {},
   "outputs": [
    {
     "data": {
      "text/plain": [
       "6"
      ]
     },
     "execution_count": 4,
     "metadata": {},
     "output_type": "execute_result"
    }
   ],
   "source": [
    "len(x)"
   ]
  },
  {
   "cell_type": "code",
   "execution_count": 6,
   "id": "2af0f366-51af-400e-9667-d29b54805762",
   "metadata": {},
   "outputs": [],
   "source": [
    "x[2] = 'salah'"
   ]
  },
  {
   "cell_type": "code",
   "execution_count": 7,
   "id": "f3482c65-a7f1-46d2-864a-3d4b06d3bb44",
   "metadata": {},
   "outputs": [
    {
     "name": "stdout",
     "output_type": "stream",
     "text": [
      "[1, 33, 'salah', 22, 'sasa', 1]\n"
     ]
    }
   ],
   "source": [
    "print(x)"
   ]
  },
  {
   "cell_type": "code",
   "execution_count": 8,
   "id": "344caaba-d656-4253-850b-0f06194bbc74",
   "metadata": {},
   "outputs": [
    {
     "data": {
      "text/plain": [
       "1"
      ]
     },
     "execution_count": 8,
     "metadata": {},
     "output_type": "execute_result"
    }
   ],
   "source": [
    "x[0]"
   ]
  },
  {
   "cell_type": "code",
   "execution_count": 9,
   "id": "71511bf0-6f66-49ae-a4ff-c80996224a08",
   "metadata": {},
   "outputs": [
    {
     "data": {
      "text/plain": [
       "'salah'"
      ]
     },
     "execution_count": 9,
     "metadata": {},
     "output_type": "execute_result"
    }
   ],
   "source": [
    "x[2]"
   ]
  },
  {
   "cell_type": "code",
   "execution_count": 10,
   "id": "95b9f219-2c60-4410-8064-40c9b80414d0",
   "metadata": {},
   "outputs": [],
   "source": [
    "x.append('sam')"
   ]
  },
  {
   "cell_type": "code",
   "execution_count": 11,
   "id": "a393d9a8-6e21-4a57-9a7d-a1367f97c46f",
   "metadata": {},
   "outputs": [
    {
     "name": "stdout",
     "output_type": "stream",
     "text": [
      "[1, 33, 'salah', 22, 'sasa', 1, 'sam']\n"
     ]
    }
   ],
   "source": [
    "print(x)"
   ]
  },
  {
   "cell_type": "code",
   "execution_count": null,
   "id": "8787593b-e87d-4cbc-b48e-388c07dc2479",
   "metadata": {},
   "outputs": [],
   "source": []
  }
 ],
 "metadata": {
  "kernelspec": {
   "display_name": "Python [conda env:base] *",
   "language": "python",
   "name": "conda-base-py"
  },
  "language_info": {
   "codemirror_mode": {
    "name": "ipython",
    "version": 3
   },
   "file_extension": ".py",
   "mimetype": "text/x-python",
   "name": "python",
   "nbconvert_exporter": "python",
   "pygments_lexer": "ipython3",
   "version": "3.12.7"
  }
 },
 "nbformat": 4,
 "nbformat_minor": 5
}
